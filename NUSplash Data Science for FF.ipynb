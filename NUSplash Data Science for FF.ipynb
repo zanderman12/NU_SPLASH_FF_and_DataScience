{
 "cells": [
  {
   "cell_type": "markdown",
   "metadata": {},
   "source": [
    "# Using Data Science to Win at Fantasy Football\n",
    "\n",
    "## Taught By Alex Cates\n",
    "\n",
    "\n",
    "## What is Data Science?\n",
    "\n",
    "For me, Data Science is a method of answering questions based on historical data, statistics, simulations, and predictions.  All of that being said, 90% of data science consists of designing your question, quantifying your variables, and collecting the data.\n",
    "\n",
    "### Importantly, Data Science can be done without any advanced mathematics\n",
    "\n",
    "All of the math that I will cover today would be taught in a high school statistics class.  The real magic of data science is not in fancy mathematics, but well posed questions\n",
    "\n",
    "## Why Fantasy Football\n",
    "\n",
    "Fantasy football offers an excellent test bed to explore data science.  There are lots of fun questions that can be asked and, with careful data processing, answered.  The data is relatively straight forward and there are a few straight forward outcome measures to optimize towards (points, wins, final standing, etc.)"
   ]
  },
  {
   "cell_type": "code",
   "execution_count": 1,
   "metadata": {},
   "outputs": [
    {
     "data": {
      "text/html": [
       "<div>\n",
       "<style scoped>\n",
       "    .dataframe tbody tr th:only-of-type {\n",
       "        vertical-align: middle;\n",
       "    }\n",
       "\n",
       "    .dataframe tbody tr th {\n",
       "        vertical-align: top;\n",
       "    }\n",
       "\n",
       "    .dataframe thead th {\n",
       "        text-align: right;\n",
       "    }\n",
       "</style>\n",
       "<table border=\"1\" class=\"dataframe\">\n",
       "  <thead>\n",
       "    <tr style=\"text-align: right;\">\n",
       "      <th></th>\n",
       "      <th>Unnamed: 0</th>\n",
       "      <th>week</th>\n",
       "      <th>player</th>\n",
       "      <th>player_id</th>\n",
       "      <th>proteam</th>\n",
       "      <th>position</th>\n",
       "      <th>points</th>\n",
       "      <th>proj_points</th>\n",
       "      <th>fteam</th>\n",
       "    </tr>\n",
       "  </thead>\n",
       "  <tbody>\n",
       "    <tr>\n",
       "      <th>0</th>\n",
       "      <td>8</td>\n",
       "      <td>0</td>\n",
       "      <td>Ravens D/ST</td>\n",
       "      <td>-16033</td>\n",
       "      <td>BAL</td>\n",
       "      <td>D/ST</td>\n",
       "      <td>6.0</td>\n",
       "      <td>6.82</td>\n",
       "      <td>1</td>\n",
       "    </tr>\n",
       "    <tr>\n",
       "      <th>1</th>\n",
       "      <td>12</td>\n",
       "      <td>0</td>\n",
       "      <td>Broncos D/ST</td>\n",
       "      <td>-16007</td>\n",
       "      <td>DEN</td>\n",
       "      <td>D/ST</td>\n",
       "      <td>8.0</td>\n",
       "      <td>8.84</td>\n",
       "      <td>1</td>\n",
       "    </tr>\n",
       "    <tr>\n",
       "      <th>2</th>\n",
       "      <td>31</td>\n",
       "      <td>0</td>\n",
       "      <td>Vikings D/ST</td>\n",
       "      <td>-16016</td>\n",
       "      <td>MIN</td>\n",
       "      <td>D/ST</td>\n",
       "      <td>8.0</td>\n",
       "      <td>5.06</td>\n",
       "      <td>2</td>\n",
       "    </tr>\n",
       "    <tr>\n",
       "      <th>3</th>\n",
       "      <td>44</td>\n",
       "      <td>0</td>\n",
       "      <td>Saints D/ST</td>\n",
       "      <td>-16018</td>\n",
       "      <td>NO</td>\n",
       "      <td>D/ST</td>\n",
       "      <td>5.0</td>\n",
       "      <td>6.50</td>\n",
       "      <td>3</td>\n",
       "    </tr>\n",
       "    <tr>\n",
       "      <th>4</th>\n",
       "      <td>54</td>\n",
       "      <td>0</td>\n",
       "      <td>Rams D/ST</td>\n",
       "      <td>-16014</td>\n",
       "      <td>LAR</td>\n",
       "      <td>D/ST</td>\n",
       "      <td>9.0</td>\n",
       "      <td>5.18</td>\n",
       "      <td>4</td>\n",
       "    </tr>\n",
       "  </tbody>\n",
       "</table>\n",
       "</div>"
      ],
      "text/plain": [
       "   Unnamed: 0  week        player  player_id proteam position  points  \\\n",
       "0           8     0   Ravens D/ST     -16033     BAL     D/ST     6.0   \n",
       "1          12     0  Broncos D/ST     -16007     DEN     D/ST     8.0   \n",
       "2          31     0  Vikings D/ST     -16016     MIN     D/ST     8.0   \n",
       "3          44     0   Saints D/ST     -16018      NO     D/ST     5.0   \n",
       "4          54     0     Rams D/ST     -16014     LAR     D/ST     9.0   \n",
       "\n",
       "   proj_points  fteam  \n",
       "0         6.82      1  \n",
       "1         8.84      1  \n",
       "2         5.06      2  \n",
       "3         6.50      3  \n",
       "4         5.18      4  "
      ]
     },
     "execution_count": 1,
     "metadata": {},
     "output_type": "execute_result"
    }
   ],
   "source": [
    "import pandas as pd\n",
    "import numpy as np\n",
    "import pickle\n",
    "from espn_api.football import League\n",
    "\n",
    "df = pd.read_csv('player_performance_2019.csv')\n",
    "df.head()"
   ]
  },
  {
   "cell_type": "markdown",
   "metadata": {},
   "source": [
    "# VORP, VOSP, and VOBP\n",
    "\n",
    "## Value over Replacement\n",
    "\n",
    "The most important concept to help you win is the idea of value over replacement player.  You may have heard of the idea of using tiers instead of rankings, and that is entirely based on value over replacemet.\n",
    "\n",
    "Simply put, value over replacement is how many points a player scored compared to what their replacement would score.\n",
    "\n",
    "So what is a replacement player?\n",
    "\n",
    "There are 3 types of replacement players that matter for Fantasy Football\n",
    "\n",
    "1. Free agents (VORP)\n",
    "2. Non-Starter Caliber (VOSP)\n",
    "3. Your Bench Players (VOBP)\n",
    "\n",
    "lets define them one at a time\n",
    "\n",
    "## VORP - Value Over Free Agents\n",
    "\n",
    "To calculate a player's VORP, we use the following equation\n",
    "\n",
    "Points scored by player - points scored by the best free agent at same position\n",
    "\n",
    "we can do that for each week to account for changing free agents"
   ]
  },
  {
   "cell_type": "code",
   "execution_count": 2,
   "metadata": {},
   "outputs": [
    {
     "name": "stdout",
     "output_type": "stream",
     "text": [
      "{'D/ST': 10.0, 'K': 16.0, 'QB': 27.26, 'RB': 14.6, 'TE': 14.0, 'WR': 16.3}\n"
     ]
    }
   ],
   "source": [
    "replacement_dict = {}\n",
    "for w, wdf in df.groupby('week'):\n",
    "    replacement_dict[w] = {}\n",
    "    for p, pdf in wdf.groupby('position'):\n",
    "        best_free_agent = pdf[pdf.fteam == 0].points.max()\n",
    "        replacement_dict[w][p] = best_free_agent\n",
    "        \n",
    "print(replacement_dict[5])\n",
    "\n",
    "    "
   ]
  },
  {
   "cell_type": "code",
   "execution_count": 3,
   "metadata": {},
   "outputs": [
    {
     "data": {
      "text/html": [
       "<div>\n",
       "<style scoped>\n",
       "    .dataframe tbody tr th:only-of-type {\n",
       "        vertical-align: middle;\n",
       "    }\n",
       "\n",
       "    .dataframe tbody tr th {\n",
       "        vertical-align: top;\n",
       "    }\n",
       "\n",
       "    .dataframe thead th {\n",
       "        text-align: right;\n",
       "    }\n",
       "</style>\n",
       "<table border=\"1\" class=\"dataframe\">\n",
       "  <thead>\n",
       "    <tr style=\"text-align: right;\">\n",
       "      <th></th>\n",
       "      <th>Unnamed: 0</th>\n",
       "      <th>week</th>\n",
       "      <th>player</th>\n",
       "      <th>player_id</th>\n",
       "      <th>proteam</th>\n",
       "      <th>position</th>\n",
       "      <th>points</th>\n",
       "      <th>proj_points</th>\n",
       "      <th>fteam</th>\n",
       "      <th>vorp</th>\n",
       "    </tr>\n",
       "  </thead>\n",
       "  <tbody>\n",
       "    <tr>\n",
       "      <th>3370</th>\n",
       "      <td>3264</td>\n",
       "      <td>5</td>\n",
       "      <td>Aaron Jones</td>\n",
       "      <td>3042519</td>\n",
       "      <td>GB</td>\n",
       "      <td>RB</td>\n",
       "      <td>42.2</td>\n",
       "      <td>12.05</td>\n",
       "      <td>9</td>\n",
       "      <td>27.6</td>\n",
       "    </tr>\n",
       "    <tr>\n",
       "      <th>3329</th>\n",
       "      <td>3132</td>\n",
       "      <td>5</td>\n",
       "      <td>Christian McCaffrey</td>\n",
       "      <td>3117251</td>\n",
       "      <td>CAR</td>\n",
       "      <td>RB</td>\n",
       "      <td>41.7</td>\n",
       "      <td>18.16</td>\n",
       "      <td>3</td>\n",
       "      <td>27.1</td>\n",
       "    </tr>\n",
       "    <tr>\n",
       "      <th>5243</th>\n",
       "      <td>5154</td>\n",
       "      <td>8</td>\n",
       "      <td>Tevin Coleman</td>\n",
       "      <td>2979477</td>\n",
       "      <td>SF</td>\n",
       "      <td>RB</td>\n",
       "      <td>35.8</td>\n",
       "      <td>13.10</td>\n",
       "      <td>5</td>\n",
       "      <td>26.9</td>\n",
       "    </tr>\n",
       "    <tr>\n",
       "      <th>5223</th>\n",
       "      <td>5080</td>\n",
       "      <td>8</td>\n",
       "      <td>Aaron Jones</td>\n",
       "      <td>3042519</td>\n",
       "      <td>GB</td>\n",
       "      <td>RB</td>\n",
       "      <td>34.6</td>\n",
       "      <td>13.76</td>\n",
       "      <td>9</td>\n",
       "      <td>25.7</td>\n",
       "    </tr>\n",
       "    <tr>\n",
       "      <th>4620</th>\n",
       "      <td>4528</td>\n",
       "      <td>7</td>\n",
       "      <td>Chase Edmonds</td>\n",
       "      <td>3119195</td>\n",
       "      <td>ARI</td>\n",
       "      <td>RB</td>\n",
       "      <td>33.0</td>\n",
       "      <td>4.80</td>\n",
       "      <td>5</td>\n",
       "      <td>25.6</td>\n",
       "    </tr>\n",
       "    <tr>\n",
       "      <th>3126</th>\n",
       "      <td>3226</td>\n",
       "      <td>5</td>\n",
       "      <td>Eagles D/ST</td>\n",
       "      <td>-16021</td>\n",
       "      <td>PHI</td>\n",
       "      <td>D/ST</td>\n",
       "      <td>35.0</td>\n",
       "      <td>10.39</td>\n",
       "      <td>1</td>\n",
       "      <td>25.0</td>\n",
       "    </tr>\n",
       "    <tr>\n",
       "      <th>9571</th>\n",
       "      <td>9415</td>\n",
       "      <td>15</td>\n",
       "      <td>Kenyan Drake</td>\n",
       "      <td>2979843</td>\n",
       "      <td>ARI</td>\n",
       "      <td>RB</td>\n",
       "      <td>38.6</td>\n",
       "      <td>10.91</td>\n",
       "      <td>3</td>\n",
       "      <td>24.4</td>\n",
       "    </tr>\n",
       "    <tr>\n",
       "      <th>1250</th>\n",
       "      <td>1294</td>\n",
       "      <td>2</td>\n",
       "      <td>Patriots D/ST</td>\n",
       "      <td>-16017</td>\n",
       "      <td>NE</td>\n",
       "      <td>D/ST</td>\n",
       "      <td>35.0</td>\n",
       "      <td>6.35</td>\n",
       "      <td>5</td>\n",
       "      <td>24.0</td>\n",
       "    </tr>\n",
       "    <tr>\n",
       "      <th>3643</th>\n",
       "      <td>3272</td>\n",
       "      <td>5</td>\n",
       "      <td>Will Fuller V</td>\n",
       "      <td>3052876</td>\n",
       "      <td>HOU</td>\n",
       "      <td>WR</td>\n",
       "      <td>39.7</td>\n",
       "      <td>6.89</td>\n",
       "      <td>9</td>\n",
       "      <td>23.4</td>\n",
       "    </tr>\n",
       "    <tr>\n",
       "      <th>243</th>\n",
       "      <td>112</td>\n",
       "      <td>0</td>\n",
       "      <td>Saquon Barkley</td>\n",
       "      <td>3929630</td>\n",
       "      <td>NYG</td>\n",
       "      <td>RB</td>\n",
       "      <td>39.9</td>\n",
       "      <td>15.10</td>\n",
       "      <td>8</td>\n",
       "      <td>23.3</td>\n",
       "    </tr>\n",
       "  </tbody>\n",
       "</table>\n",
       "</div>"
      ],
      "text/plain": [
       "      Unnamed: 0  week               player  player_id proteam position  \\\n",
       "3370        3264     5          Aaron Jones    3042519      GB       RB   \n",
       "3329        3132     5  Christian McCaffrey    3117251     CAR       RB   \n",
       "5243        5154     8        Tevin Coleman    2979477      SF       RB   \n",
       "5223        5080     8          Aaron Jones    3042519      GB       RB   \n",
       "4620        4528     7        Chase Edmonds    3119195     ARI       RB   \n",
       "3126        3226     5          Eagles D/ST     -16021     PHI     D/ST   \n",
       "9571        9415    15         Kenyan Drake    2979843     ARI       RB   \n",
       "1250        1294     2        Patriots D/ST     -16017      NE     D/ST   \n",
       "3643        3272     5        Will Fuller V    3052876     HOU       WR   \n",
       "243          112     0       Saquon Barkley    3929630     NYG       RB   \n",
       "\n",
       "      points  proj_points  fteam  vorp  \n",
       "3370    42.2        12.05      9  27.6  \n",
       "3329    41.7        18.16      3  27.1  \n",
       "5243    35.8        13.10      5  26.9  \n",
       "5223    34.6        13.76      9  25.7  \n",
       "4620    33.0         4.80      5  25.6  \n",
       "3126    35.0        10.39      1  25.0  \n",
       "9571    38.6        10.91      3  24.4  \n",
       "1250    35.0         6.35      5  24.0  \n",
       "3643    39.7         6.89      9  23.4  \n",
       "243     39.9        15.10      8  23.3  "
      ]
     },
     "execution_count": 3,
     "metadata": {},
     "output_type": "execute_result"
    }
   ],
   "source": [
    "df['vorp'] = df.apply(lambda x: x.points - replacement_dict[x.week][x.position], axis = 1)\n",
    "\n",
    "df.sort_values('vorp', ascending = False).head(10)"
   ]
  },
  {
   "cell_type": "code",
   "execution_count": 4,
   "metadata": {},
   "outputs": [
    {
     "name": "stdout",
     "output_type": "stream",
     "text": [
      "{'D/ST': 0.0, 'K': 4.0, 'QB': 13.6, 'RB': 1.5, 'TE': 0.9, 'WR': 5.3}\n"
     ]
    },
    {
     "data": {
      "text/html": [
       "<div>\n",
       "<style scoped>\n",
       "    .dataframe tbody tr th:only-of-type {\n",
       "        vertical-align: middle;\n",
       "    }\n",
       "\n",
       "    .dataframe tbody tr th {\n",
       "        vertical-align: top;\n",
       "    }\n",
       "\n",
       "    .dataframe thead th {\n",
       "        text-align: right;\n",
       "    }\n",
       "</style>\n",
       "<table border=\"1\" class=\"dataframe\">\n",
       "  <thead>\n",
       "    <tr style=\"text-align: right;\">\n",
       "      <th></th>\n",
       "      <th>Unnamed: 0</th>\n",
       "      <th>week</th>\n",
       "      <th>player</th>\n",
       "      <th>player_id</th>\n",
       "      <th>proteam</th>\n",
       "      <th>position</th>\n",
       "      <th>points</th>\n",
       "      <th>proj_points</th>\n",
       "      <th>fteam</th>\n",
       "      <th>vorp</th>\n",
       "    </tr>\n",
       "  </thead>\n",
       "  <tbody>\n",
       "    <tr>\n",
       "      <th>3370</th>\n",
       "      <td>3264</td>\n",
       "      <td>5</td>\n",
       "      <td>Aaron Jones</td>\n",
       "      <td>3042519</td>\n",
       "      <td>GB</td>\n",
       "      <td>RB</td>\n",
       "      <td>42.2</td>\n",
       "      <td>12.05</td>\n",
       "      <td>9</td>\n",
       "      <td>38.4</td>\n",
       "    </tr>\n",
       "    <tr>\n",
       "      <th>3329</th>\n",
       "      <td>3132</td>\n",
       "      <td>5</td>\n",
       "      <td>Christian McCaffrey</td>\n",
       "      <td>3117251</td>\n",
       "      <td>CAR</td>\n",
       "      <td>RB</td>\n",
       "      <td>41.7</td>\n",
       "      <td>18.16</td>\n",
       "      <td>3</td>\n",
       "      <td>37.9</td>\n",
       "    </tr>\n",
       "    <tr>\n",
       "      <th>3126</th>\n",
       "      <td>3226</td>\n",
       "      <td>5</td>\n",
       "      <td>Eagles D/ST</td>\n",
       "      <td>-16021</td>\n",
       "      <td>PHI</td>\n",
       "      <td>D/ST</td>\n",
       "      <td>35.0</td>\n",
       "      <td>10.39</td>\n",
       "      <td>1</td>\n",
       "      <td>35.0</td>\n",
       "    </tr>\n",
       "    <tr>\n",
       "      <th>9571</th>\n",
       "      <td>9415</td>\n",
       "      <td>15</td>\n",
       "      <td>Kenyan Drake</td>\n",
       "      <td>2979843</td>\n",
       "      <td>ARI</td>\n",
       "      <td>RB</td>\n",
       "      <td>38.6</td>\n",
       "      <td>10.91</td>\n",
       "      <td>3</td>\n",
       "      <td>34.6</td>\n",
       "    </tr>\n",
       "    <tr>\n",
       "      <th>2357</th>\n",
       "      <td>1912</td>\n",
       "      <td>3</td>\n",
       "      <td>Mike Evans</td>\n",
       "      <td>16737</td>\n",
       "      <td>TB</td>\n",
       "      <td>WR</td>\n",
       "      <td>37.0</td>\n",
       "      <td>9.20</td>\n",
       "      <td>7</td>\n",
       "      <td>34.0</td>\n",
       "    </tr>\n",
       "    <tr>\n",
       "      <th>5865</th>\n",
       "      <td>5772</td>\n",
       "      <td>9</td>\n",
       "      <td>Christian McCaffrey</td>\n",
       "      <td>3117251</td>\n",
       "      <td>CAR</td>\n",
       "      <td>RB</td>\n",
       "      <td>34.6</td>\n",
       "      <td>19.60</td>\n",
       "      <td>3</td>\n",
       "      <td>33.1</td>\n",
       "    </tr>\n",
       "    <tr>\n",
       "      <th>1250</th>\n",
       "      <td>1294</td>\n",
       "      <td>2</td>\n",
       "      <td>Patriots D/ST</td>\n",
       "      <td>-16017</td>\n",
       "      <td>NE</td>\n",
       "      <td>D/ST</td>\n",
       "      <td>35.0</td>\n",
       "      <td>6.35</td>\n",
       "      <td>5</td>\n",
       "      <td>32.0</td>\n",
       "    </tr>\n",
       "    <tr>\n",
       "      <th>4232</th>\n",
       "      <td>3794</td>\n",
       "      <td>6</td>\n",
       "      <td>Stefon Diggs</td>\n",
       "      <td>2976212</td>\n",
       "      <td>MIN</td>\n",
       "      <td>WR</td>\n",
       "      <td>36.5</td>\n",
       "      <td>6.41</td>\n",
       "      <td>1</td>\n",
       "      <td>31.2</td>\n",
       "    </tr>\n",
       "    <tr>\n",
       "      <th>5243</th>\n",
       "      <td>5154</td>\n",
       "      <td>8</td>\n",
       "      <td>Tevin Coleman</td>\n",
       "      <td>2979477</td>\n",
       "      <td>SF</td>\n",
       "      <td>RB</td>\n",
       "      <td>35.8</td>\n",
       "      <td>13.10</td>\n",
       "      <td>5</td>\n",
       "      <td>31.2</td>\n",
       "    </tr>\n",
       "    <tr>\n",
       "      <th>3643</th>\n",
       "      <td>3272</td>\n",
       "      <td>5</td>\n",
       "      <td>Will Fuller V</td>\n",
       "      <td>3052876</td>\n",
       "      <td>HOU</td>\n",
       "      <td>WR</td>\n",
       "      <td>39.7</td>\n",
       "      <td>6.89</td>\n",
       "      <td>9</td>\n",
       "      <td>31.1</td>\n",
       "    </tr>\n",
       "  </tbody>\n",
       "</table>\n",
       "</div>"
      ],
      "text/plain": [
       "      Unnamed: 0  week               player  player_id proteam position  \\\n",
       "3370        3264     5          Aaron Jones    3042519      GB       RB   \n",
       "3329        3132     5  Christian McCaffrey    3117251     CAR       RB   \n",
       "3126        3226     5          Eagles D/ST     -16021     PHI     D/ST   \n",
       "9571        9415    15         Kenyan Drake    2979843     ARI       RB   \n",
       "2357        1912     3           Mike Evans      16737      TB       WR   \n",
       "5865        5772     9  Christian McCaffrey    3117251     CAR       RB   \n",
       "1250        1294     2        Patriots D/ST     -16017      NE     D/ST   \n",
       "4232        3794     6         Stefon Diggs    2976212     MIN       WR   \n",
       "5243        5154     8        Tevin Coleman    2979477      SF       RB   \n",
       "3643        3272     5        Will Fuller V    3052876     HOU       WR   \n",
       "\n",
       "      points  proj_points  fteam  vorp  \n",
       "3370    42.2        12.05      9  38.4  \n",
       "3329    41.7        18.16      3  37.9  \n",
       "3126    35.0        10.39      1  35.0  \n",
       "9571    38.6        10.91      3  34.6  \n",
       "2357    37.0         9.20      7  34.0  \n",
       "5865    34.6        19.60      3  33.1  \n",
       "1250    35.0         6.35      5  32.0  \n",
       "4232    36.5         6.41      1  31.2  \n",
       "5243    35.8        13.10      5  31.2  \n",
       "3643    39.7         6.89      9  31.1  "
      ]
     },
     "execution_count": 4,
     "metadata": {},
     "output_type": "execute_result"
    }
   ],
   "source": [
    "new_replacement_dict = {}\n",
    "for w, wdf in df.groupby('week'):\n",
    "    new_replacement_dict[w] = {}\n",
    "    for p, pdf in wdf.groupby('position'):\n",
    "        best_free_agent = pdf[(pdf.fteam == 0)].sort_values('proj_points', ascending = False).iloc[0]['points']\n",
    "        new_replacement_dict[w][p] = best_free_agent\n",
    "        \n",
    "print(new_replacement_dict[6])\n",
    "        \n",
    "df['vorp'] = df.apply(lambda x: x.points - new_replacement_dict[x.week][x.position], axis = 1)\n",
    "\n",
    "df.sort_values('vorp', ascending = False).head(10)"
   ]
  },
  {
   "cell_type": "markdown",
   "metadata": {},
   "source": [
    "## Why is Vorp Important\n",
    "\n",
    "We can look at the value of vorp by comparing how a the total vorp of a fantasy team relates to where that team finished"
   ]
  },
  {
   "cell_type": "code",
   "execution_count": 10,
   "metadata": {},
   "outputs": [
    {
     "data": {
      "text/html": [
       "<div>\n",
       "<style scoped>\n",
       "    .dataframe tbody tr th:only-of-type {\n",
       "        vertical-align: middle;\n",
       "    }\n",
       "\n",
       "    .dataframe tbody tr th {\n",
       "        vertical-align: top;\n",
       "    }\n",
       "\n",
       "    .dataframe thead th {\n",
       "        text-align: right;\n",
       "    }\n",
       "</style>\n",
       "<table border=\"1\" class=\"dataframe\">\n",
       "  <thead>\n",
       "    <tr style=\"text-align: right;\">\n",
       "      <th></th>\n",
       "      <th>Unnamed: 0</th>\n",
       "      <th>lid</th>\n",
       "      <th>team</th>\n",
       "      <th>week</th>\n",
       "      <th>vosp</th>\n",
       "      <th>vorp</th>\n",
       "      <th>reg_standing</th>\n",
       "      <th>final_standing</th>\n",
       "      <th>score</th>\n",
       "      <th>outcome</th>\n",
       "    </tr>\n",
       "  </thead>\n",
       "  <tbody>\n",
       "    <tr>\n",
       "      <th>0</th>\n",
       "      <td>0</td>\n",
       "      <td>38734302</td>\n",
       "      <td>Anthony Vlahos</td>\n",
       "      <td>0</td>\n",
       "      <td>41.76</td>\n",
       "      <td>17.10</td>\n",
       "      <td>10</td>\n",
       "      <td>11</td>\n",
       "      <td>156.52</td>\n",
       "      <td>True</td>\n",
       "    </tr>\n",
       "    <tr>\n",
       "      <th>1</th>\n",
       "      <td>1</td>\n",
       "      <td>38734302</td>\n",
       "      <td>Anthony Vlahos</td>\n",
       "      <td>1</td>\n",
       "      <td>98.72</td>\n",
       "      <td>86.31</td>\n",
       "      <td>10</td>\n",
       "      <td>11</td>\n",
       "      <td>87.82</td>\n",
       "      <td>False</td>\n",
       "    </tr>\n",
       "    <tr>\n",
       "      <th>2</th>\n",
       "      <td>2</td>\n",
       "      <td>38734302</td>\n",
       "      <td>Anthony Vlahos</td>\n",
       "      <td>2</td>\n",
       "      <td>6.72</td>\n",
       "      <td>-1.24</td>\n",
       "      <td>10</td>\n",
       "      <td>11</td>\n",
       "      <td>134.62</td>\n",
       "      <td>True</td>\n",
       "    </tr>\n",
       "    <tr>\n",
       "      <th>3</th>\n",
       "      <td>3</td>\n",
       "      <td>38734302</td>\n",
       "      <td>Anthony Vlahos</td>\n",
       "      <td>3</td>\n",
       "      <td>26.90</td>\n",
       "      <td>-50.77</td>\n",
       "      <td>10</td>\n",
       "      <td>11</td>\n",
       "      <td>115.84</td>\n",
       "      <td>False</td>\n",
       "    </tr>\n",
       "    <tr>\n",
       "      <th>4</th>\n",
       "      <td>4</td>\n",
       "      <td>38734302</td>\n",
       "      <td>Anthony Vlahos</td>\n",
       "      <td>4</td>\n",
       "      <td>-1.26</td>\n",
       "      <td>-0.05</td>\n",
       "      <td>10</td>\n",
       "      <td>11</td>\n",
       "      <td>132.12</td>\n",
       "      <td>False</td>\n",
       "    </tr>\n",
       "  </tbody>\n",
       "</table>\n",
       "</div>"
      ],
      "text/plain": [
       "   Unnamed: 0       lid            team  week   vosp   vorp  reg_standing  \\\n",
       "0           0  38734302  Anthony Vlahos     0  41.76  17.10            10   \n",
       "1           1  38734302  Anthony Vlahos     1  98.72  86.31            10   \n",
       "2           2  38734302  Anthony Vlahos     2   6.72  -1.24            10   \n",
       "3           3  38734302  Anthony Vlahos     3  26.90 -50.77            10   \n",
       "4           4  38734302  Anthony Vlahos     4  -1.26  -0.05            10   \n",
       "\n",
       "   final_standing   score  outcome  \n",
       "0              11  156.52     True  \n",
       "1              11   87.82    False  \n",
       "2              11  134.62     True  \n",
       "3              11  115.84    False  \n",
       "4              11  132.12    False  "
      ]
     },
     "execution_count": 10,
     "metadata": {},
     "output_type": "execute_result"
    }
   ],
   "source": [
    "vorp_df = pd.read_csv('vorp_splash.csv')\n",
    "vorp_df.head()\n"
   ]
  },
  {
   "cell_type": "code",
   "execution_count": 15,
   "metadata": {},
   "outputs": [
    {
     "data": {
      "text/plain": [
       "(0, 16)"
      ]
     },
     "execution_count": 15,
     "metadata": {},
     "output_type": "execute_result"
    },
    {
     "data": {
      "image/png": "[encoded data removed]",
      "text/plain": [
       "<Figure size 360x360 with 1 Axes>"
      ]
     },
     "metadata": {
      "needs_background": "light"
     },
     "output_type": "display_data"
    }
   ],
   "source": [
    "import matplotlib.pyplot as plt\n",
    "import seaborn as sns\n",
    "\n",
    "team_vorp_df = vorp_df.groupby(['lid', 'team']).sum()\n",
    "sns.lmplot(x = 'vorp', y = 'outcome', data = team_vorp_df)\n",
    "plt.ylim([0,16])"
   ]
  },
  {
   "cell_type": "code",
   "execution_count": 18,
   "metadata": {},
   "outputs": [
    {
     "data": {
      "text/plain": [
       "<matplotlib.axes._subplots.AxesSubplot at 0x193a8cbfd48>"
      ]
     },
     "execution_count": 18,
     "metadata": {},
     "output_type": "execute_result"
    },
    {
     "data": {
      "image/png": "[encoded data removed]",
      "text/plain": [
       "<Figure size 432x288 with 1 Axes>"
      ]
     },
     "metadata": {
      "needs_background": "light"
     },
     "output_type": "display_data"
    }
   ],
   "source": [
    "sns.boxplot(x = 'final_standing', y = 'vorp', data = vorp_df)"
   ]
  },
  {
   "cell_type": "markdown",
   "metadata": {},
   "source": [
    "## VOSP - Value Over non-Starting Player\n",
    "\n",
    "VOSP or value over starting player is calculated the same as vorp, but instead of the replacement level player being the best free agent, we can define that as the next replacement for a starter caliber player of the week.\n",
    "\n",
    "For instance, In a 10 team league which starts 1 QB, the 11th best QB of the week would define our replacement level.\n",
    "\n",
    "We can do the same calculations as above"
   ]
  },
  {
   "cell_type": "code",
   "execution_count": 32,
   "metadata": {},
   "outputs": [
    {
     "name": "stdout",
     "output_type": "stream",
     "text": [
      "{'D/ST': 5.0, 'K': 6.0, 'QB': 18.22, 'RB': 8.5, 'TE': 5.2, 'WR': 7.6}\n"
     ]
    },
    {
     "data": {
      "text/html": [
       "<div>\n",
       "<style scoped>\n",
       "    .dataframe tbody tr th:only-of-type {\n",
       "        vertical-align: middle;\n",
       "    }\n",
       "\n",
       "    .dataframe tbody tr th {\n",
       "        vertical-align: top;\n",
       "    }\n",
       "\n",
       "    .dataframe thead th {\n",
       "        text-align: right;\n",
       "    }\n",
       "</style>\n",
       "<table border=\"1\" class=\"dataframe\">\n",
       "  <thead>\n",
       "    <tr style=\"text-align: right;\">\n",
       "      <th></th>\n",
       "      <th>week</th>\n",
       "      <th>player</th>\n",
       "      <th>player_id</th>\n",
       "      <th>proteam</th>\n",
       "      <th>position</th>\n",
       "      <th>points</th>\n",
       "      <th>proj_points</th>\n",
       "      <th>fteam</th>\n",
       "      <th>vorp</th>\n",
       "      <th>vosp</th>\n",
       "    </tr>\n",
       "  </thead>\n",
       "  <tbody>\n",
       "    <tr>\n",
       "      <th>3264</th>\n",
       "      <td>5</td>\n",
       "      <td>Aaron Jones</td>\n",
       "      <td>3042519</td>\n",
       "      <td>GB</td>\n",
       "      <td>RB</td>\n",
       "      <td>42.2</td>\n",
       "      <td>12.05</td>\n",
       "      <td>9</td>\n",
       "      <td>38.4</td>\n",
       "      <td>31.28</td>\n",
       "    </tr>\n",
       "    <tr>\n",
       "      <th>3272</th>\n",
       "      <td>5</td>\n",
       "      <td>Will Fuller V</td>\n",
       "      <td>3052876</td>\n",
       "      <td>HOU</td>\n",
       "      <td>WR</td>\n",
       "      <td>39.7</td>\n",
       "      <td>6.89</td>\n",
       "      <td>9</td>\n",
       "      <td>31.1</td>\n",
       "      <td>30.80</td>\n",
       "    </tr>\n",
       "    <tr>\n",
       "      <th>3132</th>\n",
       "      <td>5</td>\n",
       "      <td>Christian McCaffrey</td>\n",
       "      <td>3117251</td>\n",
       "      <td>CAR</td>\n",
       "      <td>RB</td>\n",
       "      <td>41.7</td>\n",
       "      <td>18.16</td>\n",
       "      <td>3</td>\n",
       "      <td>37.9</td>\n",
       "      <td>30.78</td>\n",
       "    </tr>\n",
       "    <tr>\n",
       "      <th>3226</th>\n",
       "      <td>5</td>\n",
       "      <td>Eagles D/ST</td>\n",
       "      <td>-16021</td>\n",
       "      <td>PHI</td>\n",
       "      <td>D/ST</td>\n",
       "      <td>35.0</td>\n",
       "      <td>10.39</td>\n",
       "      <td>1</td>\n",
       "      <td>35.0</td>\n",
       "      <td>30.00</td>\n",
       "    </tr>\n",
       "    <tr>\n",
       "      <th>9415</th>\n",
       "      <td>15</td>\n",
       "      <td>Kenyan Drake</td>\n",
       "      <td>2979843</td>\n",
       "      <td>ARI</td>\n",
       "      <td>RB</td>\n",
       "      <td>38.6</td>\n",
       "      <td>10.91</td>\n",
       "      <td>3</td>\n",
       "      <td>34.6</td>\n",
       "      <td>29.70</td>\n",
       "    </tr>\n",
       "    <tr>\n",
       "      <th>3794</th>\n",
       "      <td>6</td>\n",
       "      <td>Stefon Diggs</td>\n",
       "      <td>2976212</td>\n",
       "      <td>MIN</td>\n",
       "      <td>WR</td>\n",
       "      <td>36.5</td>\n",
       "      <td>6.41</td>\n",
       "      <td>1</td>\n",
       "      <td>31.2</td>\n",
       "      <td>28.90</td>\n",
       "    </tr>\n",
       "    <tr>\n",
       "      <th>112</th>\n",
       "      <td>0</td>\n",
       "      <td>Saquon Barkley</td>\n",
       "      <td>3929630</td>\n",
       "      <td>NYG</td>\n",
       "      <td>RB</td>\n",
       "      <td>39.9</td>\n",
       "      <td>15.10</td>\n",
       "      <td>8</td>\n",
       "      <td>23.3</td>\n",
       "      <td>28.80</td>\n",
       "    </tr>\n",
       "    <tr>\n",
       "      <th>1294</th>\n",
       "      <td>2</td>\n",
       "      <td>Patriots D/ST</td>\n",
       "      <td>-16017</td>\n",
       "      <td>NE</td>\n",
       "      <td>D/ST</td>\n",
       "      <td>35.0</td>\n",
       "      <td>6.35</td>\n",
       "      <td>5</td>\n",
       "      <td>32.0</td>\n",
       "      <td>28.00</td>\n",
       "    </tr>\n",
       "    <tr>\n",
       "      <th>632</th>\n",
       "      <td>1</td>\n",
       "      <td>Sammy Watkins</td>\n",
       "      <td>16725</td>\n",
       "      <td>KC</td>\n",
       "      <td>WR</td>\n",
       "      <td>37.8</td>\n",
       "      <td>7.06</td>\n",
       "      <td>9</td>\n",
       "      <td>22.1</td>\n",
       "      <td>27.42</td>\n",
       "    </tr>\n",
       "    <tr>\n",
       "      <th>4528</th>\n",
       "      <td>7</td>\n",
       "      <td>Chase Edmonds</td>\n",
       "      <td>3119195</td>\n",
       "      <td>ARI</td>\n",
       "      <td>RB</td>\n",
       "      <td>33.0</td>\n",
       "      <td>4.80</td>\n",
       "      <td>5</td>\n",
       "      <td>30.1</td>\n",
       "      <td>26.60</td>\n",
       "    </tr>\n",
       "  </tbody>\n",
       "</table>\n",
       "</div>"
      ],
      "text/plain": [
       "      week               player  player_id proteam position  points  \\\n",
       "3264     5          Aaron Jones    3042519      GB       RB    42.2   \n",
       "3272     5        Will Fuller V    3052876     HOU       WR    39.7   \n",
       "3132     5  Christian McCaffrey    3117251     CAR       RB    41.7   \n",
       "3226     5          Eagles D/ST     -16021     PHI     D/ST    35.0   \n",
       "9415    15         Kenyan Drake    2979843     ARI       RB    38.6   \n",
       "3794     6         Stefon Diggs    2976212     MIN       WR    36.5   \n",
       "112      0       Saquon Barkley    3929630     NYG       RB    39.9   \n",
       "1294     2        Patriots D/ST     -16017      NE     D/ST    35.0   \n",
       "632      1        Sammy Watkins      16725      KC       WR    37.8   \n",
       "4528     7        Chase Edmonds    3119195     ARI       RB    33.0   \n",
       "\n",
       "      proj_points  fteam  vorp   vosp  \n",
       "3264        12.05      9  38.4  31.28  \n",
       "3272         6.89      9  31.1  30.80  \n",
       "3132        18.16      3  37.9  30.78  \n",
       "3226        10.39      1  35.0  30.00  \n",
       "9415        10.91      3  34.6  29.70  \n",
       "3794         6.41      1  31.2  28.90  \n",
       "112         15.10      8  23.3  28.80  \n",
       "1294         6.35      5  32.0  28.00  \n",
       "632          7.06      9  22.1  27.42  \n",
       "4528         4.80      5  30.1  26.60  "
      ]
     },
     "execution_count": 32,
     "metadata": {},
     "output_type": "execute_result"
    }
   ],
   "source": [
    "vosp_replacement_dict = {}\n",
    "for w, wdf in df.groupby('week'):\n",
    "    vosp_replacement_dict[w] = {}\n",
    "    for p, pdf in wdf.groupby('position'):\n",
    "        if p in ['QB', 'TE', 'D/ST', 'K']:\n",
    "            best_nonstarter = pdf.sort_values('points', ascending = False).iloc[11]['points']\n",
    "            vosp_replacement_dict[w][p] = best_nonstarter\n",
    "        elif p in ['RB', 'WR']:\n",
    "            best_nonstarter = pdf.sort_values('points', ascending = False).iloc[21]['points']\n",
    "            vosp_replacement_dict[w][p] = best_nonstarter\n",
    "        \n",
    "print(vosp_replacement_dict[6])\n",
    "        \n",
    "df['vosp'] = df.apply(lambda x: x.points - vosp_replacement_dict[x.week][x.position], axis = 1)\n",
    "\n",
    "df.sort_values('vosp', ascending = False).head(10)"
   ]
  },
  {
   "cell_type": "code",
   "execution_count": 23,
   "metadata": {},
   "outputs": [
    {
     "data": {
      "text/plain": [
       "Text(9.924999999999997, 0.5, 'wins')"
      ]
     },
     "execution_count": 23,
     "metadata": {},
     "output_type": "execute_result"
    },
    {
     "data": {
      "image/png": "[encoded data removed]",
      "text/plain": [
       "<Figure size 360x360 with 1 Axes>"
      ]
     },
     "metadata": {
      "needs_background": "light"
     },
     "output_type": "display_data"
    }
   ],
   "source": [
    "sns.lmplot(x = 'vosp', y = 'outcome', data = team_vorp_df)\n",
    "plt.ylim([0,16])\n",
    "plt.ylabel('wins')"
   ]
  },
  {
   "cell_type": "code",
   "execution_count": 24,
   "metadata": {},
   "outputs": [
    {
     "data": {
      "text/plain": [
       "<matplotlib.axes._subplots.AxesSubplot at 0x193a8f6cc08>"
      ]
     },
     "execution_count": 24,
     "metadata": {},
     "output_type": "execute_result"
    },
    {
     "data": {
      "image/png": "[encoded data removed]",
      "text/plain": [
       "<Figure size 432x288 with 1 Axes>"
      ]
     },
     "metadata": {
      "needs_background": "light"
     },
     "output_type": "display_data"
    }
   ],
   "source": [
    "sns.boxplot(x = 'final_standing', y = 'vosp', data = vorp_df)"
   ]
  },
  {
   "cell_type": "markdown",
   "metadata": {},
   "source": [
    "## Is VORP or VOSP more important?\n",
    "\n",
    "While Vorp is a measure of how good the entire team is, the entire team does not score.  For VOSP, you want your starting lineup to be positive vosp.  VOSP vs VORP is the debate of if you want a shallow high end team (High VOSP) or a balanced deep team (High Vorp).  Obviously you want both but most teams can't get that, so which is better? \n",
    "\n",
    "One way to look at this is to simply run a linear regression and see which is weighted more.  A linear regression will create a multidimensional line that predicts the outcome measures based on the inputs.  In this case, lets use a teams total VORP, VOSP, and Points For over the course of the season, and see well we can predict that teams final standing:"
   ]
  },
  {
   "cell_type": "code",
   "execution_count": 25,
   "metadata": {},
   "outputs": [
    {
     "name": "stdout",
     "output_type": "stream",
     "text": [
      "       names  coef    se      T  pval    r2  adj_r2  CI[2.5%]  CI[97.5%]  \\\n",
      "0  Intercept  6.92  0.18  38.55  0.00  0.26    0.26      6.57       7.28   \n",
      "1       vorp  0.00  0.00   2.40  0.02  0.26    0.26      0.00       0.00   \n",
      "2       vosp  0.01  0.00   7.62  0.00  0.26    0.26      0.00       0.01   \n",
      "\n",
      "   relimp  relimp_perc  \n",
      "0     NaN          NaN  \n",
      "1    0.08        29.19  \n",
      "2    0.19        70.81  \n"
     ]
    },
    {
     "name": "stderr",
     "output_type": "stream",
     "text": [
      "C:\\Users\\alext\\Anaconda3\\lib\\site-packages\\outdated\\utils.py:18: OutdatedPackageWarning: The package pingouin is out of date. Your version is 0.3.6, the latest is 0.3.8.\n",
      "Set the environment variable OUTDATED_IGNORE=1 to disable these warnings.\n",
      "  **kwargs\n"
     ]
    }
   ],
   "source": [
    "import pingouin as pg\n",
    "\n",
    "pov = pg.linear_regression(team_vorp_df[['vorp', 'vosp']], team_vorp_df.outcome, relimp = True)\n",
    "print(pov.round(2))"
   ]
  },
  {
   "cell_type": "markdown",
   "metadata": {},
   "source": [
    "We can see that VOSP is more important than VORP.  Now this does not mean that VORP cant predict the number of wins a team has, rather that it does not add value to a prediction when you already have VOSP.  \n",
    "\n",
    "In short, The goal is to have the best starting lineup, depth can help you get there, but end of the day it is the starters that matters."
   ]
  },
  {
   "cell_type": "markdown",
   "metadata": {},
   "source": [
    "## VOBP - Value Over Bench Player\n",
    "\n",
    "VOBP is really useful to assessing the depth of a team, which is necessary for trades.  To calculate a player's VOBP, you take the points that a starting player scores and subtract the points that the best bench player at that position on that fantasy team scores.  This means that a players VOBP changes from fantasy team to fantasy team.\n",
    "\n",
    "As an example we can look at 2 teams in a given week"
   ]
  },
  {
   "cell_type": "code",
   "execution_count": 33,
   "metadata": {},
   "outputs": [
    {
     "name": "stdout",
     "output_type": "stream",
     "text": [
      "{'D/ST': 10.0, 'K': 16.0, 'QB': 27.26, 'RB': 8.8, 'TE': 14.0, 'WR': 15.9}\n",
      "Index(['Unnamed: 0', 'week', 'player', 'player_id', 'proteam', 'position',\n",
      "       'points', 'proj_points', 'fteam', 'vorp'],\n",
      "      dtype='object')\n"
     ]
    }
   ],
   "source": [
    "vobp_replacement_dict = {}\n",
    "ddf = df[df.fteam != 0].copy()\n",
    "for w, wdf in ddf.groupby('week'):\n",
    "    vobp_replacement_dict[w] = {}\n",
    "    for t, tdf in wdf.groupby('fteam'):\n",
    "        vobp_replacement_dict[w][t] = {}\n",
    "        for p, pdf in tdf.groupby('position'):\n",
    "            if p in ['QB', 'TE', 'D/ST', 'K']:\n",
    "                if len(pdf) > 1:\n",
    "                    best_bench = pdf.sort_values('points', ascending = False).iloc[1]['points']\n",
    "                    vobp_replacement_dict[w][t][p] = best_bench\n",
    "                else:\n",
    "                    best_bench = df[(df.week == 5) & (df.fteam == 0) & (df.position == p)].points.max()\n",
    "                    vobp_replacement_dict[w][t][p] = best_bench\n",
    "            elif p in ['RB', 'WR']:\n",
    "                if len(pdf) > 2:\n",
    "                    best_bench = pdf.sort_values('points', ascending = False).iloc[2]['points']\n",
    "                    vobp_replacement_dict[w][t][p] = best_bench\n",
    "                else:\n",
    "                    best_bench = df[(df.week == 5) & (df.fteam == 0) & (df.position == p)].points.max()\n",
    "                    vobp_replacement_dict[w][t][p] = best_bench\n",
    "        \n",
    "print(vobp_replacement_dict[3][1])\n",
    "        \n",
    "ddf['vobp'] = ddf.apply(lambda x: x.points - vobp_replacement_dict[x.week][x.fteam][x.position], axis = 1)\n",
    "print(df.columns)\n",
    "\n"
   ]
  },
  {
   "cell_type": "code",
   "execution_count": 35,
   "metadata": {},
   "outputs": [
    {
     "data": {
      "text/html": [
       "<div>\n",
       "<style scoped>\n",
       "    .dataframe tbody tr th:only-of-type {\n",
       "        vertical-align: middle;\n",
       "    }\n",
       "\n",
       "    .dataframe tbody tr th {\n",
       "        vertical-align: top;\n",
       "    }\n",
       "\n",
       "    .dataframe thead th {\n",
       "        text-align: right;\n",
       "    }\n",
       "</style>\n",
       "<table border=\"1\" class=\"dataframe\">\n",
       "  <thead>\n",
       "    <tr style=\"text-align: right;\">\n",
       "      <th></th>\n",
       "      <th>player</th>\n",
       "      <th>position</th>\n",
       "      <th>vorp</th>\n",
       "      <th>vobp</th>\n",
       "    </tr>\n",
       "  </thead>\n",
       "  <tbody>\n",
       "    <tr>\n",
       "      <th>1881</th>\n",
       "      <td>Panthers D/ST</td>\n",
       "      <td>D/ST</td>\n",
       "      <td>17.00</td>\n",
       "      <td>4.00</td>\n",
       "    </tr>\n",
       "    <tr>\n",
       "      <th>1911</th>\n",
       "      <td>Robbie Gould</td>\n",
       "      <td>K</td>\n",
       "      <td>-3.00</td>\n",
       "      <td>-10.00</td>\n",
       "    </tr>\n",
       "    <tr>\n",
       "      <th>1974</th>\n",
       "      <td>Deshaun Watson</td>\n",
       "      <td>QB</td>\n",
       "      <td>6.40</td>\n",
       "      <td>4.18</td>\n",
       "    </tr>\n",
       "    <tr>\n",
       "      <th>1975</th>\n",
       "      <td>Carson Wentz</td>\n",
       "      <td>QB</td>\n",
       "      <td>2.22</td>\n",
       "      <td>0.00</td>\n",
       "    </tr>\n",
       "    <tr>\n",
       "      <th>2120</th>\n",
       "      <td>Todd Gurley II</td>\n",
       "      <td>RB</td>\n",
       "      <td>-8.60</td>\n",
       "      <td>0.00</td>\n",
       "    </tr>\n",
       "    <tr>\n",
       "      <th>2121</th>\n",
       "      <td>Leonard Fournette</td>\n",
       "      <td>RB</td>\n",
       "      <td>-3.70</td>\n",
       "      <td>4.90</td>\n",
       "    </tr>\n",
       "    <tr>\n",
       "      <th>2122</th>\n",
       "      <td>Mark Ingram II</td>\n",
       "      <td>RB</td>\n",
       "      <td>18.60</td>\n",
       "      <td>27.20</td>\n",
       "    </tr>\n",
       "    <tr>\n",
       "      <th>2236</th>\n",
       "      <td>Evan Engram</td>\n",
       "      <td>TE</td>\n",
       "      <td>16.30</td>\n",
       "      <td>10.70</td>\n",
       "    </tr>\n",
       "    <tr>\n",
       "      <th>2237</th>\n",
       "      <td>O.J. Howard</td>\n",
       "      <td>TE</td>\n",
       "      <td>5.60</td>\n",
       "      <td>0.00</td>\n",
       "    </tr>\n",
       "    <tr>\n",
       "      <th>2385</th>\n",
       "      <td>Amari Cooper</td>\n",
       "      <td>WR</td>\n",
       "      <td>17.80</td>\n",
       "      <td>8.40</td>\n",
       "    </tr>\n",
       "    <tr>\n",
       "      <th>2386</th>\n",
       "      <td>Marquise Brown</td>\n",
       "      <td>WR</td>\n",
       "      <td>1.90</td>\n",
       "      <td>-7.50</td>\n",
       "    </tr>\n",
       "    <tr>\n",
       "      <th>2387</th>\n",
       "      <td>A.J. Green</td>\n",
       "      <td>WR</td>\n",
       "      <td>-3.00</td>\n",
       "      <td>-12.40</td>\n",
       "    </tr>\n",
       "    <tr>\n",
       "      <th>2388</th>\n",
       "      <td>Alshon Jeffery</td>\n",
       "      <td>WR</td>\n",
       "      <td>-3.00</td>\n",
       "      <td>-12.40</td>\n",
       "    </tr>\n",
       "    <tr>\n",
       "      <th>2389</th>\n",
       "      <td>Corey Davis</td>\n",
       "      <td>WR</td>\n",
       "      <td>1.40</td>\n",
       "      <td>-8.00</td>\n",
       "    </tr>\n",
       "    <tr>\n",
       "      <th>2390</th>\n",
       "      <td>DJ Moore</td>\n",
       "      <td>WR</td>\n",
       "      <td>9.40</td>\n",
       "      <td>0.00</td>\n",
       "    </tr>\n",
       "    <tr>\n",
       "      <th>2391</th>\n",
       "      <td>Sterling Shepard</td>\n",
       "      <td>WR</td>\n",
       "      <td>17.10</td>\n",
       "      <td>7.70</td>\n",
       "    </tr>\n",
       "  </tbody>\n",
       "</table>\n",
       "</div>"
      ],
      "text/plain": [
       "                 player position   vorp   vobp\n",
       "1881      Panthers D/ST     D/ST  17.00   4.00\n",
       "1911       Robbie Gould        K  -3.00 -10.00\n",
       "1974     Deshaun Watson       QB   6.40   4.18\n",
       "1975       Carson Wentz       QB   2.22   0.00\n",
       "2120     Todd Gurley II       RB  -8.60   0.00\n",
       "2121  Leonard Fournette       RB  -3.70   4.90\n",
       "2122     Mark Ingram II       RB  18.60  27.20\n",
       "2236        Evan Engram       TE  16.30  10.70\n",
       "2237        O.J. Howard       TE   5.60   0.00\n",
       "2385       Amari Cooper       WR  17.80   8.40\n",
       "2386     Marquise Brown       WR   1.90  -7.50\n",
       "2387         A.J. Green       WR  -3.00 -12.40\n",
       "2388     Alshon Jeffery       WR  -3.00 -12.40\n",
       "2389        Corey Davis       WR   1.40  -8.00\n",
       "2390           DJ Moore       WR   9.40   0.00\n",
       "2391   Sterling Shepard       WR  17.10   7.70"
      ]
     },
     "execution_count": 35,
     "metadata": {},
     "output_type": "execute_result"
    }
   ],
   "source": [
    "ddf[(ddf.week == 3) & (ddf.fteam == 2)][['player', 'position', 'vorp', 'vobp']]"
   ]
  },
  {
   "cell_type": "code",
   "execution_count": 41,
   "metadata": {},
   "outputs": [
    {
     "name": "stdout",
     "output_type": "stream",
     "text": [
      "    team             player position   vorp   vobp\n",
      "0      1      Steelers D/ST     D/ST -22.00   0.00\n",
      "1      1        Mike Nugent        K   3.00 -28.00\n",
      "2      1      Lamar Jackson       QB  51.04  -3.10\n",
      "3      1         Josh Allen       QB  -5.16 -14.80\n",
      "4      1    Ezekiel Elliott       RB  63.60  45.80\n",
      "5      1         Nick Chubb       RB  55.40  37.60\n",
      "6      1        Sony Michel       RB  31.60  13.80\n",
      "7      1        Matt Breida       RB   3.90  -8.40\n",
      "8      1   Devin Singletary       RB -27.70 -45.50\n",
      "9      1       Tony Pollard       RB -13.60 -36.70\n",
      "10     1       Mark Andrews       TE  57.00 -17.90\n",
      "11     1        Julio Jones       WR  43.00  24.70\n",
      "12     1      Brandin Cooks       WR  -0.30  -4.40\n",
      "13     1       Stefon Diggs       WR  36.10  17.80\n",
      "14     2      Seahawks D/ST     D/ST -14.00  -4.00\n",
      "15     2      Zane Gonzalez        K  11.00 -36.00\n",
      "16     2     Deshaun Watson       QB  22.36  57.10\n",
      "17     2       Carson Wentz       QB -12.06  12.78\n",
      "18     2     Todd Gurley II       RB  33.40  35.00\n",
      "19     2  Leonard Fournette       RB  49.70  51.30\n",
      "20     2     Mark Ingram II       RB  57.10  58.70\n",
      "21     2    Adrian Peterson       RB -10.50 -16.70\n",
      "22     2        Evan Engram       TE  25.20  38.30\n",
      "23     2        O.J. Howard       TE  -5.00   3.50\n",
      "24     2       Amari Cooper       WR  40.80  34.70\n",
      "25     2     Marquise Brown       WR  -2.50  -8.60\n",
      "26     2         A.J. Green       WR -53.70 -59.80\n",
      "27     2     Alshon Jeffery       WR  -4.20 -10.30\n",
      "28     2           DJ Moore       WR  -4.60 -10.70\n",
      "29     2   Sterling Shepard       WR  -1.20  -7.30\n"
     ]
    }
   ],
   "source": [
    "data = []\n",
    "for t in [1,2]:\n",
    "    for pid in ddf[(ddf.fteam == t) & (ddf.week == 8)].player_id:\n",
    "        \n",
    "        pdf = ddf[(ddf.player_id == pid) & (ddf.week < 8)]\n",
    "        try:\n",
    "            row = [t, pdf.iloc[0].player, pdf.iloc[0].position, pdf.vorp.sum(), pdf.vobp.sum()]\n",
    "            data.append(row)\n",
    "        except:\n",
    "            continue\n",
    "        \n",
    "trade_df = pd.DataFrame(data = data, columns = ['team', 'player', 'position', 'vorp', 'vobp'])\n",
    "\n",
    "print(trade_df)"
   ]
  },
  {
   "cell_type": "markdown",
   "metadata": {},
   "source": [
    "# Value over Replacement - Team Addition\n",
    "\n",
    "We can use the same logic to determine how strong a fantasy team is based on how it performs vs a replacement level team.\n",
    "\n",
    "but what is a replacement level team?\n",
    "\n",
    "In most weeks, we define a replacement level team as the median score of all teams across the league, so a team that is above replacement scored more than at least half of the other teams in the league, while a team that is below replacement scores less than half the other teams in the league."
   ]
  },
  {
   "cell_type": "code",
   "execution_count": 50,
   "metadata": {},
   "outputs": [
    {
     "data": {
      "text/plain": [
       "Index(['Unnamed: 0', 'lid', 'week', 'tid', 'real_score', 'espn_lineup_score',\n",
       "       'best_score', 'proj_score', 'opp_score', 'opp_proj_score', 'zero_count',\n",
       "       'reg_standing', 'final_standing', 'real_vs_proj', 'real_vs_espn',\n",
       "       'real_vs_best', 'espn_vs_best', 'coach_win', 'bad_lineup',\n",
       "       'lucky_score', 'unlucky_score', 'above_median', 'score_vs_median',\n",
       "       'opp_vs_median', 'luck_score', 'lucky_win', 'unluck_loss', 'standing',\n",
       "       'league_size'],\n",
       "      dtype='object')"
      ]
     },
     "execution_count": 50,
     "metadata": {},
     "output_type": "execute_result"
    }
   ],
   "source": [
    "team_vor_df = pd.read_csv('team_vor.csv')\n",
    "team_vor_df.head()\n",
    "team_vor_df.columns"
   ]
  },
  {
   "cell_type": "markdown",
   "metadata": {},
   "source": [
    "## Determining Matchup Luck\n",
    "\n",
    "One way that team value over replacement is useful is to explore the role of luck.  You can think of one version of luck as matchup luck, specifically who you have to play in a given week.  There is no defense in fantasy football, there is nothing you can do to prevent your opponent from scoring points.  So while scoring above the median should be enough to win that week, we all remember when we had the second highest score of the week, but lost because we faced the highest scoring team.\n",
    "\n",
    "We can look across a league to see how many lucky wins or unlucky losses occured"
   ]
  },
  {
   "cell_type": "code",
   "execution_count": 49,
   "metadata": {},
   "outputs": [
    {
     "data": {
      "text/plain": [
       "(-85, 85)"
      ]
     },
     "execution_count": 49,
     "metadata": {},
     "output_type": "execute_result"
    },
    {
     "data": {
      "image/png": "[encoded data removed]",
      "text/plain": [
       "<Figure size 432x288 with 1 Axes>"
      ]
     },
     "metadata": {
      "needs_background": "light"
     },
     "output_type": "display_data"
    }
   ],
   "source": [
    "league_df = team_vor_df[team_vor_df.lid == 38726555].copy()\n",
    "league_df.head()\n",
    "\n",
    "plt.figure()\n",
    "plt.fill([0,85,85, 0], [0,0,85,85], 'r', alpha=0.1, edgecolor='r')\n",
    "plt.fill([-85,0,0, -85], [-85,-85,0, 0], 'g', alpha=0.1, edgecolor='g')\n",
    "sns.scatterplot(x = 'opp_vs_median',y = 'score_vs_median', hue = 'tid', style ='coach_win', data = league_df, \n",
    "                style_order = [True, False], legend=False,\n",
    "                 s = 100)\n",
    "plt.axhline(0)\n",
    "plt.axvline(0)\n",
    "plt.xlim([-85, 85])\n",
    "plt.ylim([-85, 85])"
   ]
  },
  {
   "cell_type": "markdown",
   "metadata": {},
   "source": [
    "## Luck vs final standing\n",
    "\n",
    "We can begin to explore how important luck is by comparing how many lucky wins a team gets vs where they finish"
   ]
  },
  {
   "cell_type": "code",
   "execution_count": 55,
   "metadata": {},
   "outputs": [
    {
     "data": {
      "text/plain": [
       "<matplotlib.axes._subplots.AxesSubplot at 0x20d097c0f88>"
      ]
     },
     "execution_count": 55,
     "metadata": {},
     "output_type": "execute_result"
    },
    {
     "data": {
      "image/png": "[encoded data removed]",
      "text/plain": [
       "<Figure size 432x288 with 1 Axes>"
      ]
     },
     "metadata": {
      "needs_background": "light"
     },
     "output_type": "display_data"
    },
    {
     "data": {
      "image/png": "[encoded data removed]",
      "text/plain": [
       "<Figure size 432x288 with 1 Axes>"
      ]
     },
     "metadata": {
      "needs_background": "light"
     },
     "output_type": "display_data"
    }
   ],
   "source": [
    "season_luck_df = pd.read_csv('season_luck.csv')\n",
    "\n",
    "plt.figure()\n",
    "sns.pointplot(x = 'standing', y = 'lucky_win', data = season_luck_df[season_luck_df.standing <= 10], color = 'g')\n",
    "\n",
    "\n",
    "plt.figure()\n",
    "sns.pointplot(x = 'standing', y = 'unluck_loss', data = season_luck_df[season_luck_df.standing <= 10], color = 'r')\n"
   ]
  },
  {
   "cell_type": "markdown",
   "metadata": {},
   "source": [
    "## Breaking down luck even further\n",
    "\n",
    "One way we can break matchup luck down more is thinking about how lucky a win or how unlucky a loss is.  Specifically, how many teams would you have beaten or lost to.  For example, if a team is the team is the top scoring team, there is no luck involved, they are going to win.  Whereas if they were the 3rd highest scoring team, they should win, but there are 2 teams that would have beaten them so we can give them a luck score of 2.  We can do the same with losses, ust how many teams you could beaten given your score.\n",
    "\n",
    "We can even consolidate this as to total season long luck is by combining the luckiness of your wins and subtracting the unluckiness your losses. (this is what the luck score in the season luck file is)"
   ]
  },
  {
   "cell_type": "code",
   "execution_count": 57,
   "metadata": {},
   "outputs": [
    {
     "data": {
      "text/plain": [
       "<matplotlib.axes._subplots.AxesSubplot at 0x20d099249c8>"
      ]
     },
     "execution_count": 57,
     "metadata": {},
     "output_type": "execute_result"
    },
    {
     "data": {
      "image/png": "[encoded data removed]",
      "text/plain": [
       "<Figure size 432x288 with 1 Axes>"
      ]
     },
     "metadata": {
      "needs_background": "light"
     },
     "output_type": "display_data"
    }
   ],
   "source": [
    "plt.figure()\n",
    "sns.pointplot(x = 'standing', y = 'luck_score', data = season_luck_df[season_luck_df.standing <= 10])"
   ]
  },
  {
   "cell_type": "markdown",
   "metadata": {},
   "source": [
    "# Conclusion\n",
    "\n",
    "1. Try to think in terms of value above replacement when assessing the value of players and of teams. \n",
    "\n",
    "2. Both depth and starting lineup strength are important, but depth seems to be a better predictor\n",
    "\n",
    "3. luck matters, but not a ton\n",
    "\n",
    "# What to do Next?\n",
    "\n",
    "* If interested in learning python to enable you to create these sorts of investigations, check out https://www.fantasyfootballdatapros.com/blog/beginner/1\n",
    "\n",
    "* If you know python or want to just explore this without following a blog, The package I use to gather data from my and other fantasy football leagues can be found at https://github.com/cwendt94/espn-api\n",
    "\n",
    "* Finally, if you just want to read more about explorations into fantasy football with data science, check out these blogs\n",
    "    - https://stmorse.github.io/blog.html\n",
    "    - https://www.alexcates.com/blog (this one is mine)"
   ]
  }
 ],
 "metadata": {
  "kernelspec": {
   "display_name": "Python 3",
   "language": "python",
   "name": "python3"
  },
  "language_info": {
   "codemirror_mode": {
    "name": "ipython",
    "version": 3
   },
   "file_extension": ".py",
   "mimetype": "text/x-python",
   "name": "python",
   "nbconvert_exporter": "python",
   "pygments_lexer": "ipython3",
   "version": "3.7.6"
  }
 },
 "nbformat": 4,
 "nbformat_minor": 2
}
